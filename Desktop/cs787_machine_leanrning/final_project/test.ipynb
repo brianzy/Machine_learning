{
 "cells": [
  {
   "cell_type": "markdown",
   "metadata": {},
   "source": [
    " \n",
    " $$\\frac{\\overline{X_{i}}-\\overline{X_{j}}}{ \\parallel \\overline{X_{i}}-\\overline{X_{j}} \\parallel}$$\n",
    " $$ P(\\overline{X_{k}})=(\\overline{X_{k}}-\\overline{X_{i}})\\frac{\\overline{X_{i}}-\\overline{X_{j}}}{ \\parallel \\overline{X_{i}}-\\overline{X_{j}} \\parallel}$$\n",
    " $$P(\\overline{X_{k}})= \\frac{\\overline{X_{k}} \\cdot \\overline{X_{j}}-\\overline{X_{k}} \\cdot \\overline{X_{i}} -\\overline{X_{i}} \\cdot \\overline{X_{j}}+\\overline{X_{i}} \\cdot \\overline{X_{i}}}{\\parallel \\overline{X_{i}}-\\overline{X_{j}} \\parallel} $$\n",
    " $$=\\frac {S_{kj}-S_{ki}-S_{ij}+S_{ii}}{\\parallel \\overline{X_{i}}-\\overline{X_{j}} \\parallel}$$\n",
    " $$=\\frac {S_{kj}-S_{ki}-S_{ij}+S_{ii}}{\\sqrt{S_{ii}+S_{jj}-2S_{ij}}}$$\n",
    " $$P(\\overline{X_{k}})=A\\cdot (S_{kj}-S_{ki})+B$$\n",
    " $$GQ(N_{1},N_{2})=\\frac {n_{1}G(N_{1})+n_{2}G(N_{2})}{n_{1}+n_{2}}$$"
   ]
  },
  {
   "cell_type": "code",
   "execution_count": null,
   "metadata": {
    "collapsed": true
   },
   "outputs": [],
   "source": []
  }
 ],
 "metadata": {
  "kernelspec": {
   "display_name": "Python 3",
   "language": "python",
   "name": "python3"
  },
  "language_info": {
   "codemirror_mode": {
    "name": "ipython",
    "version": 3
   },
   "file_extension": ".py",
   "mimetype": "text/x-python",
   "name": "python",
   "nbconvert_exporter": "python",
   "pygments_lexer": "ipython3",
   "version": "3.6.3"
  }
 },
 "nbformat": 4,
 "nbformat_minor": 2
}
