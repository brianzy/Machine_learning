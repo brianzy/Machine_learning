{
 "cells": [
  {
   "cell_type": "code",
   "execution_count": 57,
   "metadata": {
    "collapsed": true
   },
   "outputs": [],
   "source": [
    "from sklearn.linear_model import LogisticRegression\n",
    "from sklearn import datasets\n",
    "from sklearn.model_selection import train_test_split\n",
    "import numpy as np\n",
    "import pandas as pd\n",
    "import matplotlib.pyplot as plt"
   ]
  },
  {
   "cell_type": "markdown",
   "metadata": {
    "collapsed": true
   },
   "source": [
    "$$LL(W)=\\sum_{i=1}^{N}y_iw^Tx_i-\\log(1+\\exp(w^Tx_i))$$\n",
    "Take derivative respect to w $$\\frac{\\partial LL(w)}{\\partial w}$$,we can get the gradient is\n",
    "$$\\sum_{i=1}^{N}y_ix_i- \\frac{e^{w^Tx_i}}{1+e^{w^Tx_i}}x_i$$"
   ]
  },
  {
   "cell_type": "code",
   "execution_count": 58,
   "metadata": {
    "collapsed": true
   },
   "outputs": [],
   "source": [
    "def sigmoid(scores):\n",
    "    \"\"\"\n",
    "    return e^x/(1+e^x)\n",
    "    \"\"\"\n",
    "    return 1 / (1 + np.exp(-scores))"
   ]
  },
  {
   "cell_type": "code",
   "execution_count": 59,
   "metadata": {
    "collapsed": true
   },
   "outputs": [],
   "source": [
    "def log_likelihood(features, target, weights):\n",
    "    \"\"\"\n",
    "    This is LL(W) function to check how well the gradient descent be\n",
    "    \"\"\"\n",
    "    scores = np.dot(features, weights)\n",
    "    ll = np.sum( target*scores - np.log(1 + np.exp(scores)) )\n",
    "    return ll"
   ]
  },
  {
   "cell_type": "code",
   "execution_count": 60,
   "metadata": {
    "collapsed": true
   },
   "outputs": [],
   "source": [
    "def logistic_regression(features, target, num_steps,learning_rate):\n",
    "    \"\"\"\n",
    "    use logitstic regression to calculate weight and eventually use weigh we got \n",
    "    to predict test target using wx linear function.\n",
    "    \"\"\"    \n",
    "    weights = np.zeros(features.shape[1])\n",
    "    #learning_rate=1\n",
    "    for step in range(num_steps):\n",
    "        scores = np.dot(features, weights)\n",
    "        predictions = sigmoid(scores)\n",
    "\n",
    "        # Update weights with gradient\n",
    "        output_error_signal = target - predictions\n",
    "        gradient = np.dot(features.T, output_error_signal)\n",
    "        weights += learning_rate * gradient\n",
    "        #learning_rate=learning_rate/2\n",
    "        # Print log-likelihood every so often\n",
    "        if step % 10000 == 0:\n",
    "            print (log_likelihood(features, target, weights))\n",
    "        \n",
    "    return weights"
   ]
  },
  {
   "cell_type": "code",
   "execution_count": 61,
   "metadata": {
    "collapsed": true
   },
   "outputs": [],
   "source": [
    "def roc_table(probability, target):\n",
    "    \"\"\"\n",
    "    get roc table we you input probability and target we need to evaluate\n",
    "    \"\"\"\n",
    "    df = pd.DataFrame({ 'True Class':target ,'probability':probability})\n",
    "    df=df.sort_values('probability',ascending=False)\n",
    "    threshold=df.probability.unique().tolist()\n",
    "    tp=[]\n",
    "    fp=[]\n",
    "    tn=[]\n",
    "    fn=[]\n",
    "    for i in threshold:\n",
    "        tp.append(np.in1d(df.loc[lambda df: df.probability >= i, :],1).sum())\n",
    "        fp.append(np.in1d(df.loc[lambda df: df.probability >= i, :],0).sum())\n",
    "        tn.append(np.in1d(df.loc[lambda df: df.probability < i, :],0).sum())\n",
    "        fn.append(np.in1d(df.loc[lambda df: df.probability < i, :],1).sum())\n",
    "    roc=pd.DataFrame({ 'threshold':threshold ,'tp':tp,'fp':fp,'tn':tn,'fn':fn})\n",
    "    roc['tpr']=roc['tp']/(roc['tp']+roc['fn'])\n",
    "    roc['fpr']=roc['fp']/(roc['fp']+roc['tn'])\n",
    "    return roc"
   ]
  },
  {
   "cell_type": "code",
   "execution_count": 62,
   "metadata": {
    "collapsed": true
   },
   "outputs": [],
   "source": [
    "def roc_curve(roc):\n",
    "    \"\"\"\n",
    "    draw roc curve\n",
    "    \"\"\"\n",
    "    plt.title('Receiver Operating Characteristic')\n",
    "    plt.plot(roc.fpr, roc.tpr, 'b')\n",
    "    plt.legend(loc = 'lower right')\n",
    "    plt.plot([0, 1], [0, 1],'r--')\n",
    "    plt.xlim([0, 1])\n",
    "    plt.ylim([0, 1])\n",
    "    plt.ylabel('True Positive Rate')\n",
    "    plt.xlabel('False Positive Rate')\n",
    "    plt.show()\n",
    "    return\n",
    " "
   ]
  },
  {
   "cell_type": "code",
   "execution_count": 63,
   "metadata": {},
   "outputs": [
    {
     "name": "stdout",
     "output_type": "stream",
     "text": [
      "-670448.621876\n",
      "-inf\n"
     ]
    },
    {
     "name": "stderr",
     "output_type": "stream",
     "text": [
      "/anaconda3/lib/python3.6/site-packages/ipykernel_launcher.py:5: RuntimeWarning: overflow encountered in exp\n",
      "  \"\"\"\n",
      "/anaconda3/lib/python3.6/site-packages/ipykernel_launcher.py:6: RuntimeWarning: overflow encountered in exp\n",
      "  \n"
     ]
    },
    {
     "name": "stdout",
     "output_type": "stream",
     "text": [
      "the weights w is \n",
      " [  3.69851780e+01  -2.14557256e+01   1.37120843e+02   1.07029537e+01\n",
      "  -3.29732474e-01  -2.53608885e+00  -3.86794636e+00  -1.56739129e+00\n",
      "  -4.32331941e-01  -4.29643896e-02   7.55844177e-01   4.73258169e-02\n",
      "  -9.39014142e+00  -2.10128811e+01  -7.45912717e-02  -5.91190295e-01\n",
      "  -8.68134180e-01  -2.12237124e-01  -1.94991974e-01  -4.89256326e-02\n",
      "   3.76786787e+01  -6.44999953e+01   6.29609761e+01  -3.23499568e+01\n",
      "  -7.97230564e-01  -8.27109816e+00  -1.05417556e+01  -2.86615267e+00\n",
      "  -2.21984796e+00  -6.38100012e-01]\n",
      "ROC table is \n",
      "    fn   fp      threshold   tn   tp       tpr       fpr\n",
      "0  15    4   1.000000e+00  136  214  0.934498  0.028571\n",
      "1  14    4   3.447337e-63  136  215  0.938865  0.028571\n",
      "2  14    5   3.166024e-83  135  215  0.938865  0.035714\n",
      "3  13    5   3.184678e-95  135  216  0.943231  0.035714\n",
      "4  12    5  2.639061e-103  135  217  0.947598  0.035714\n",
      "5  11    5  1.433394e-158  135  218  0.951965  0.035714\n",
      "6  10    5  9.308123e-166  135  219  0.956332  0.035714\n",
      "7  10    6  1.095620e-237  134  219  0.956332  0.042857\n",
      "8   0  140   0.000000e+00    0  229  1.000000  1.000000\n"
     ]
    },
    {
     "data": {
      "image/png": "[encoded data removed]",
      "text/plain": [
       "<matplotlib.figure.Figure at 0x10d492860>"
      ]
     },
     "metadata": {},
     "output_type": "display_data"
    }
   ],
   "source": [
    "dataset = datasets.load_breast_cancer()\n",
    "\n",
    "X = dataset.data\n",
    "y = dataset.target\n",
    "X_train, X_test, y_train, y_test = train_test_split(X, y, test_size = 0.33, random_state=45)\n",
    "weights=logistic_regression(X_train, y_train,20000,10e-5)\n",
    "print('the weights w is \\n',weights) \n",
    "p=sigmoid(np.dot(X_test,weights))\n",
    "roc=roc_table(p,y_test)\n",
    "print('ROC table is \\n',roc)\n",
    "roc_curve(roc)"
   ]
  },
  {
   "cell_type": "code",
   "execution_count": null,
   "metadata": {
    "collapsed": true
   },
   "outputs": [],
   "source": []
  }
 ],
 "metadata": {
  "kernelspec": {
   "display_name": "Python 3",
   "language": "python",
   "name": "python3"
  },
  "language_info": {
   "codemirror_mode": {
    "name": "ipython",
    "version": 3
   },
   "file_extension": ".py",
   "mimetype": "text/x-python",
   "name": "python",
   "nbconvert_exporter": "python",
   "pygments_lexer": "ipython3",
   "version": "3.6.3"
  }
 },
 "nbformat": 4,
 "nbformat_minor": 2
}
